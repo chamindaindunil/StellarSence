{
  "cells": [
    {
      "cell_type": "markdown",
      "metadata": {
        "id": "xtIt47SZ9v93"
      },
      "source": [
        "### Pre-processing Stage"
      ]
    },
    {
      "cell_type": "markdown",
      "metadata": {
        "id": "Xzi-t6MFzsTX"
      },
      "source": [
        "#### Import Libraries"
      ]
    },
    {
      "cell_type": "code",
      "execution_count": null,
      "metadata": {
        "colab": {
          "base_uri": "https://localhost:8080/"
        },
        "id": "MIQUjdn6qnYR",
        "outputId": "b81930c1-52f8-45cb-ff9d-01db6a5c10a3"
      },
      "outputs": [],
      "source": [
        "%pip install keras_tuner"
      ]
    },
    {
      "cell_type": "code",
      "execution_count": 1,
      "metadata": {
        "id": "Njh8qxxpzzLI"
      },
      "outputs": [],
      "source": [
        "import pandas as pd\n",
        "import numpy as np\n",
        "import tensorflow as tf\n",
        "from sklearn.model_selection import train_test_split\n",
        "from sklearn.preprocessing import StandardScaler, LabelEncoder\n",
        "from sklearn.metrics import accuracy_score, classification_report, confusion_matrix\n",
        "from imblearn.under_sampling import RandomUnderSampler\n",
        "from imblearn.over_sampling import RandomOverSampler\n",
        "from tensorflow import keras, feature_column\n",
        "import matplotlib.pyplot as plt\n",
        "import keras_tuner as kt"
      ]
    },
    {
      "cell_type": "markdown",
      "metadata": {
        "id": "L_wt7tyO8rEE"
      },
      "source": [
        "#### Access Dataset"
      ]
    },
    {
      "cell_type": "code",
      "execution_count": 2,
      "metadata": {
        "colab": {
          "base_uri": "https://localhost:8080/",
          "height": 344
        },
        "id": "pADx7vjgVHTt",
        "outputId": "754c837a-8149-45de-c10a-eaa692af0fe6"
      },
      "outputs": [
        {
          "data": {
            "text/html": [
              "<div>\n",
              "<style scoped>\n",
              "    .dataframe tbody tr th:only-of-type {\n",
              "        vertical-align: middle;\n",
              "    }\n",
              "\n",
              "    .dataframe tbody tr th {\n",
              "        vertical-align: top;\n",
              "    }\n",
              "\n",
              "    .dataframe thead th {\n",
              "        text-align: right;\n",
              "    }\n",
              "</style>\n",
              "<table border=\"1\" class=\"dataframe\">\n",
              "  <thead>\n",
              "    <tr style=\"text-align: right;\">\n",
              "      <th></th>\n",
              "      <th>subClass</th>\n",
              "      <th>spectroFlux_u</th>\n",
              "      <th>spectroFlux_g</th>\n",
              "      <th>spectroFlux_r</th>\n",
              "      <th>spectroFlux_i</th>\n",
              "      <th>spectroFlux_z</th>\n",
              "      <th>spectroSynFlux_u</th>\n",
              "      <th>spectroSynFlux_g</th>\n",
              "      <th>spectroSynFlux_r</th>\n",
              "      <th>spectroSynFlux_i</th>\n",
              "      <th>...</th>\n",
              "      <th>spectroSynFluxIvar_u</th>\n",
              "      <th>spectroSynFluxIvar_g</th>\n",
              "      <th>spectroSynFluxIvar_r</th>\n",
              "      <th>spectroSynFluxIvar_i</th>\n",
              "      <th>spectroSynFluxIvar_z</th>\n",
              "      <th>spectroSkyFlux_u</th>\n",
              "      <th>spectroSkyFlux_g</th>\n",
              "      <th>spectroSkyFlux_r</th>\n",
              "      <th>spectroSkyFlux_i</th>\n",
              "      <th>spectroSkyFlux_z</th>\n",
              "    </tr>\n",
              "  </thead>\n",
              "  <tbody>\n",
              "    <tr>\n",
              "      <th>0</th>\n",
              "      <td>F</td>\n",
              "      <td>283.114700</td>\n",
              "      <td>487.432500</td>\n",
              "      <td>623.970300</td>\n",
              "      <td>661.565000</td>\n",
              "      <td>653.754400</td>\n",
              "      <td>266.679200</td>\n",
              "      <td>489.428800</td>\n",
              "      <td>620.624600</td>\n",
              "      <td>663.557100</td>\n",
              "      <td>...</td>\n",
              "      <td>6.239177</td>\n",
              "      <td>7.270068</td>\n",
              "      <td>5.600547</td>\n",
              "      <td>4.923303</td>\n",
              "      <td>2.058532</td>\n",
              "      <td>11.209000</td>\n",
              "      <td>14.54359</td>\n",
              "      <td>25.90486</td>\n",
              "      <td>36.41381</td>\n",
              "      <td>94.26073</td>\n",
              "    </tr>\n",
              "    <tr>\n",
              "      <th>1</th>\n",
              "      <td>B</td>\n",
              "      <td>1.627270</td>\n",
              "      <td>4.844555</td>\n",
              "      <td>5.206846</td>\n",
              "      <td>5.112135</td>\n",
              "      <td>5.294659</td>\n",
              "      <td>1.913090</td>\n",
              "      <td>4.815378</td>\n",
              "      <td>5.095849</td>\n",
              "      <td>5.075979</td>\n",
              "      <td>...</td>\n",
              "      <td>6.239177</td>\n",
              "      <td>7.270068</td>\n",
              "      <td>5.600547</td>\n",
              "      <td>4.923303</td>\n",
              "      <td>2.058532</td>\n",
              "      <td>10.848690</td>\n",
              "      <td>13.64701</td>\n",
              "      <td>24.44349</td>\n",
              "      <td>34.59489</td>\n",
              "      <td>90.46743</td>\n",
              "    </tr>\n",
              "    <tr>\n",
              "      <th>2</th>\n",
              "      <td>F</td>\n",
              "      <td>3.750942</td>\n",
              "      <td>5.264215</td>\n",
              "      <td>6.468467</td>\n",
              "      <td>6.767785</td>\n",
              "      <td>7.150636</td>\n",
              "      <td>3.008075</td>\n",
              "      <td>5.254549</td>\n",
              "      <td>6.316006</td>\n",
              "      <td>6.686767</td>\n",
              "      <td>...</td>\n",
              "      <td>6.239177</td>\n",
              "      <td>7.270068</td>\n",
              "      <td>5.600547</td>\n",
              "      <td>4.923303</td>\n",
              "      <td>2.058532</td>\n",
              "      <td>11.440130</td>\n",
              "      <td>13.69386</td>\n",
              "      <td>24.14538</td>\n",
              "      <td>34.38280</td>\n",
              "      <td>91.69515</td>\n",
              "    </tr>\n",
              "    <tr>\n",
              "      <th>3</th>\n",
              "      <td>F</td>\n",
              "      <td>23.945840</td>\n",
              "      <td>44.700970</td>\n",
              "      <td>61.682390</td>\n",
              "      <td>67.054180</td>\n",
              "      <td>69.310220</td>\n",
              "      <td>23.192260</td>\n",
              "      <td>44.962960</td>\n",
              "      <td>61.065280</td>\n",
              "      <td>67.080570</td>\n",
              "      <td>...</td>\n",
              "      <td>6.239177</td>\n",
              "      <td>7.270068</td>\n",
              "      <td>5.600547</td>\n",
              "      <td>4.923303</td>\n",
              "      <td>2.058532</td>\n",
              "      <td>11.222450</td>\n",
              "      <td>13.70153</td>\n",
              "      <td>24.25106</td>\n",
              "      <td>34.65611</td>\n",
              "      <td>89.66241</td>\n",
              "    </tr>\n",
              "    <tr>\n",
              "      <th>4</th>\n",
              "      <td>O</td>\n",
              "      <td>67.449710</td>\n",
              "      <td>42.157910</td>\n",
              "      <td>26.755120</td>\n",
              "      <td>20.340380</td>\n",
              "      <td>15.151600</td>\n",
              "      <td>59.197310</td>\n",
              "      <td>42.506290</td>\n",
              "      <td>26.381280</td>\n",
              "      <td>20.627160</td>\n",
              "      <td>...</td>\n",
              "      <td>6.239177</td>\n",
              "      <td>7.270068</td>\n",
              "      <td>5.600547</td>\n",
              "      <td>4.923303</td>\n",
              "      <td>2.058532</td>\n",
              "      <td>9.613045</td>\n",
              "      <td>11.76241</td>\n",
              "      <td>21.65069</td>\n",
              "      <td>32.35199</td>\n",
              "      <td>90.13759</td>\n",
              "    </tr>\n",
              "  </tbody>\n",
              "</table>\n",
              "<p>5 rows × 26 columns</p>\n",
              "</div>"
            ],
            "text/plain": [
              "  subClass  spectroFlux_u  spectroFlux_g  spectroFlux_r  spectroFlux_i  \\\n",
              "0        F     283.114700     487.432500     623.970300     661.565000   \n",
              "1        B       1.627270       4.844555       5.206846       5.112135   \n",
              "2        F       3.750942       5.264215       6.468467       6.767785   \n",
              "3        F      23.945840      44.700970      61.682390      67.054180   \n",
              "4        O      67.449710      42.157910      26.755120      20.340380   \n",
              "\n",
              "   spectroFlux_z  spectroSynFlux_u  spectroSynFlux_g  spectroSynFlux_r  \\\n",
              "0     653.754400        266.679200        489.428800        620.624600   \n",
              "1       5.294659          1.913090          4.815378          5.095849   \n",
              "2       7.150636          3.008075          5.254549          6.316006   \n",
              "3      69.310220         23.192260         44.962960         61.065280   \n",
              "4      15.151600         59.197310         42.506290         26.381280   \n",
              "\n",
              "   spectroSynFlux_i  ...  spectroSynFluxIvar_u  spectroSynFluxIvar_g  \\\n",
              "0        663.557100  ...              6.239177              7.270068   \n",
              "1          5.075979  ...              6.239177              7.270068   \n",
              "2          6.686767  ...              6.239177              7.270068   \n",
              "3         67.080570  ...              6.239177              7.270068   \n",
              "4         20.627160  ...              6.239177              7.270068   \n",
              "\n",
              "   spectroSynFluxIvar_r  spectroSynFluxIvar_i  spectroSynFluxIvar_z  \\\n",
              "0              5.600547              4.923303              2.058532   \n",
              "1              5.600547              4.923303              2.058532   \n",
              "2              5.600547              4.923303              2.058532   \n",
              "3              5.600547              4.923303              2.058532   \n",
              "4              5.600547              4.923303              2.058532   \n",
              "\n",
              "   spectroSkyFlux_u  spectroSkyFlux_g  spectroSkyFlux_r  spectroSkyFlux_i  \\\n",
              "0         11.209000          14.54359          25.90486          36.41381   \n",
              "1         10.848690          13.64701          24.44349          34.59489   \n",
              "2         11.440130          13.69386          24.14538          34.38280   \n",
              "3         11.222450          13.70153          24.25106          34.65611   \n",
              "4          9.613045          11.76241          21.65069          32.35199   \n",
              "\n",
              "   spectroSkyFlux_z  \n",
              "0          94.26073  \n",
              "1          90.46743  \n",
              "2          91.69515  \n",
              "3          89.66241  \n",
              "4          90.13759  \n",
              "\n",
              "[5 rows x 26 columns]"
            ]
          },
          "execution_count": 2,
          "metadata": {},
          "output_type": "execute_result"
        }
      ],
      "source": [
        "spectral_data = pd.read_csv('data/Skyserver_spectral.csv')\n",
        "\n",
        "spectral_data.head()"
      ]
    },
    {
      "cell_type": "code",
      "execution_count": null,
      "metadata": {
        "id": "cozhAigrPTpM"
      },
      "outputs": [],
      "source": [
        "spectral_data.dropna(inplace=True)"
      ]
    },
    {
      "cell_type": "code",
      "execution_count": null,
      "metadata": {
        "id": "Wp7gJRz9OZfL"
      },
      "outputs": [],
      "source": [
        "label_encoder = LabelEncoder()\n",
        "spectral_data['subClass'] = label_encoder.fit_transform(spectral_data['subClass'])"
      ]
    },
    {
      "cell_type": "markdown",
      "metadata": {
        "id": "uHOdXmEd1pDQ"
      },
      "source": [
        "#### Split the dataframe into train, validation, and test"
      ]
    },
    {
      "cell_type": "code",
      "execution_count": null,
      "metadata": {
        "id": "FZchrGzgJI-A"
      },
      "outputs": [],
      "source": [
        "X = spectral_data.drop('subClass', axis=1)\n",
        "y = spectral_data['subClass']"
      ]
    },
    {
      "cell_type": "code",
      "execution_count": null,
      "metadata": {
        "colab": {
          "base_uri": "https://localhost:8080/"
        },
        "id": "rm8YAIAFMabI",
        "outputId": "24546214-387c-4a39-a03b-04261d55042b"
      },
      "outputs": [],
      "source": [
        "correlation_matrix = X.corrwith(y)\n",
        "\n",
        "print(correlation_matrix)"
      ]
    },
    {
      "cell_type": "code",
      "execution_count": null,
      "metadata": {
        "id": "hte5PLsVQ_3o"
      },
      "outputs": [],
      "source": [
        "negative_correlation_columns = correlation_matrix[correlation_matrix < 0].index\n",
        "\n",
        "X = X.drop(columns=negative_correlation_columns)\n",
        "\n",
        "X.corrwith(y)"
      ]
    },
    {
      "cell_type": "code",
      "execution_count": null,
      "metadata": {
        "id": "Gh8kKEWP1vOL"
      },
      "outputs": [],
      "source": [
        "X_train, X_test, y_train, y_test = train_test_split(X, y, test_size=0.1, random_state=42)\n",
        "X_train, X_val, y_train, y_val = train_test_split(X_train, y_train, test_size=0.2, random_state=42)\n",
        "X_train.shape"
      ]
    },
    {
      "cell_type": "markdown",
      "metadata": {
        "id": "vK7KrLC1LJ6N"
      },
      "source": [
        "#### Resample"
      ]
    },
    {
      "cell_type": "code",
      "execution_count": null,
      "metadata": {
        "colab": {
          "base_uri": "https://localhost:8080/"
        },
        "id": "Ta9FDBTsIGLj",
        "outputId": "18949430-0e31-455b-f20a-d946316829db"
      },
      "outputs": [],
      "source": [
        "spectral_data['subClass'].value_counts()"
      ]
    },
    {
      "cell_type": "code",
      "execution_count": null,
      "metadata": {
        "id": "ri3t2NQkIbqk"
      },
      "outputs": [],
      "source": [
        "# Undersample the training data\n",
        "under_sampler = RandomUnderSampler(random_state=42)\n",
        "X_train_resampled, y_train_resampled = under_sampler.fit_resample(X_train, y_train)\n",
        "\n",
        "# Oversample the training data\n",
        "over_sampler = RandomOverSampler(random_state=42)\n",
        "X_train_resampled, y_train_resampled = over_sampler.fit_resample(X_train, y_train)"
      ]
    },
    {
      "cell_type": "code",
      "execution_count": null,
      "metadata": {
        "colab": {
          "base_uri": "https://localhost:8080/"
        },
        "id": "SKGrjF8fLAFQ",
        "outputId": "83172b2c-97d7-4868-9154-b837e0a551da"
      },
      "outputs": [],
      "source": [
        "print(pd.Series(y_train_resampled).value_counts())"
      ]
    },
    {
      "cell_type": "markdown",
      "metadata": {
        "id": "Cr3Hr53eM8l-"
      },
      "source": [
        "#### Normalize"
      ]
    },
    {
      "cell_type": "code",
      "execution_count": null,
      "metadata": {
        "id": "HffFzFdi25NW"
      },
      "outputs": [],
      "source": [
        "scaler = StandardScaler()\n",
        "X_train = scaler.fit_transform(X_train_resampled)\n",
        "X_val = scaler.transform(X_val)"
      ]
    },
    {
      "cell_type": "code",
      "execution_count": null,
      "metadata": {
        "id": "4eTz53zWM_Nx"
      },
      "outputs": [],
      "source": [
        "num_classes = len(np.unique(y_train))\n",
        "y_train = tf.one_hot(y_train_resampled, num_classes)\n",
        "y_val = tf.one_hot(y_val, num_classes)"
      ]
    },
    {
      "cell_type": "code",
      "execution_count": null,
      "metadata": {
        "colab": {
          "base_uri": "https://localhost:8080/"
        },
        "id": "aJel4Z-yNHb9",
        "outputId": "eeeefad8-7529-42d8-ee0a-ce7622ca5514"
      },
      "outputs": [],
      "source": [
        "print(X_train.shape)\n",
        "print(y_train.shape)"
      ]
    },
    {
      "cell_type": "code",
      "execution_count": null,
      "metadata": {
        "colab": {
          "base_uri": "https://localhost:8080/"
        },
        "id": "RcZfutOvsvbo",
        "outputId": "4c3846ba-ceb8-4815-8b9c-1024905b65ad"
      },
      "outputs": [],
      "source": [
        "print(X_val.shape)\n",
        "print(y_val.shape)"
      ]
    },
    {
      "cell_type": "markdown",
      "metadata": {
        "id": "-3K6-_8RMhzj"
      },
      "source": [
        "#### Common Functions"
      ]
    },
    {
      "cell_type": "code",
      "execution_count": null,
      "metadata": {
        "id": "BDIdASAKMwtb"
      },
      "outputs": [],
      "source": [
        "# create an optimizer based on the optimizer name and learning rate\n",
        "def get_optimizer(optimizer_name, learning_rate):\n",
        "  #'sgd','rmsprop','adam','adagrad'\n",
        "  optimizer = None\n",
        "\n",
        "  if optimizer_name == 'adagrad':\n",
        "    optimizer = tf.keras.optimizers.Adagrad(learning_rate=learning_rate)\n",
        "\n",
        "  elif 'rmsprop':\n",
        "    optimizer = tf.keras.optimizers.RMSprop(learning_rate=learning_rate)\n",
        "\n",
        "  elif 'adam':\n",
        "    optimizer = tf.keras.optimizers.Adam(learning_rate=learning_rate)\n",
        "\n",
        "  elif 'sgd':\n",
        "    optimizer = tf.keras.optimizers.SGD(learning_rate=learning_rate)\n",
        "\n",
        "  return optimizer"
      ]
    },
    {
      "cell_type": "code",
      "execution_count": null,
      "metadata": {
        "id": "1vrze3Se3iO5"
      },
      "outputs": [],
      "source": [
        "# plot a graph based on the results\n",
        "def plot_graph(accuracy_measures, title):\n",
        "  plt.figure(figsize=(15, 8))\n",
        "\n",
        "  for experiment in accuracy_measures.keys():\n",
        "    plt.plot(accuracy_measures[experiment], label=experiment, linewidth=3)\n",
        "\n",
        "  plt.title(title)\n",
        "  plt.xlabel(\"Epochs\")\n",
        "  plt.ylabel(\"Accuracy\")\n",
        "  plt.legend()\n",
        "  plt.show()"
      ]
    },
    {
      "cell_type": "markdown",
      "metadata": {
        "id": "tJTNLOFKaZEL"
      },
      "source": [
        "### Benchmark"
      ]
    },
    {
      "cell_type": "markdown",
      "metadata": {
        "id": "BYbHQfuCaurZ"
      },
      "source": [
        "#### CNN"
      ]
    },
    {
      "cell_type": "code",
      "execution_count": null,
      "metadata": {
        "id": "vxIaLn7ia0Rw"
      },
      "outputs": [],
      "source": [
        "model = tf.keras.Sequential([\n",
        "  tf.keras.layers.Conv1D(256, kernel_size=3, activation='relu', padding='same', input_shape=(X_train.shape[1],1)),\n",
        "  tf.keras.layers.MaxPooling1D(pool_size=2),\n",
        "  tf.keras.layers.Conv1D(256, kernel_size=3, activation='relu', padding='same'),\n",
        "  tf.keras.layers.MaxPooling1D(pool_size=2),\n",
        "  tf.keras.layers.Conv1D(32, kernel_size=3, activation='relu', padding='same'),\n",
        "  tf.keras.layers.MaxPooling1D(pool_size=2),\n",
        "  tf.keras.layers.Flatten(),\n",
        "  tf.keras.layers.Dropout(0.5),\n",
        "  tf.keras.layers.Dense(128, activation='relu'),\n",
        "  tf.keras.layers.Dense(7, activation='softmax')\n",
        "])\n",
        "\n",
        "model.compile(optimizer='adam', loss='categorical_crossentropy', metrics=['accuracy'])"
      ]
    },
    {
      "cell_type": "code",
      "execution_count": null,
      "metadata": {
        "colab": {
          "base_uri": "https://localhost:8080/"
        },
        "id": "gFFn1ygjtmis",
        "outputId": "4d47e61f-cf27-45d2-fd82-b14818017927"
      },
      "outputs": [],
      "source": [
        "accuracy_measures = {}\n",
        "\n",
        "reduceLR = tf.keras.callbacks.ReduceLROnPlateau(monitor=\"val_accuracy\", patience= 6, verbose= 1, mode='max', factor=  0.2, min_lr = 1e-6)\n",
        "early_stopping = tf.keras.callbacks.EarlyStopping(monitor='val_accuracy', patience = 10 , verbose=1, mode='max', restore_best_weights= True)\n",
        "checkpoint = tf.keras.callbacks.ModelCheckpoint('CustomModel.weights.hdf5', monitor='val_accuracy', verbose=1,save_best_only=True, mode= 'max')\n",
        "callbacks = [reduceLR, early_stopping,checkpoint]\n",
        "\n",
        "model.fit(X_train, y_train, validation_data=(X_val, y_val), epochs=10, callbacks=callbacks)\n",
        "\n",
        "accuracy_measures[\"training\"] = model.history.history[\"accuracy\"]\n",
        "accuracy_measures[\"validation\"] = model.history.history[\"val_accuracy\"]"
      ]
    },
    {
      "cell_type": "code",
      "execution_count": null,
      "metadata": {
        "colab": {
          "base_uri": "https://localhost:8080/",
          "height": 718
        },
        "id": "zvsKRkyNdAHg",
        "outputId": "29be3325-50ee-4ee5-d8ac-2f479a1ecd0f"
      },
      "outputs": [],
      "source": [
        "plot_graph(accuracy_measures, \"Custom CNN Model\")"
      ]
    },
    {
      "cell_type": "code",
      "execution_count": null,
      "metadata": {
        "colab": {
          "base_uri": "https://localhost:8080/"
        },
        "id": "CW8ukdXyk6DY",
        "outputId": "ce07622e-7d7b-467b-b2af-180990cea807"
      },
      "outputs": [],
      "source": [
        "model.evaluate(test_dataset, batch_size=model_config[\"BATCH_SIZE\"])"
      ]
    },
    {
      "cell_type": "markdown",
      "metadata": {
        "id": "z9UHJUknpQ34"
      },
      "source": [
        "### Hyper Parameter Tuning Automate"
      ]
    },
    {
      "cell_type": "code",
      "execution_count": null,
      "metadata": {
        "id": "QQMfAx87tta0"
      },
      "outputs": [],
      "source": [
        "def build_cnn_model(hp):\n",
        "    # Build the CNN model\n",
        "    model = tf.keras.Sequential()\n",
        "\n",
        "    # Tune the number of filters and kernel size for the first Conv1D layer\n",
        "    model.add(tf.keras.layers.Conv1D(hp.Int('conv1_filters', min_value=64, max_value=256, step=32),\n",
        "                             hp.Int('conv1_kernel', min_value=3, max_value=5, step=2),\n",
        "                             activation='relu', input_shape=(X_train.shape[1],1)))\n",
        "    model.add(tf.keras.layers.MaxPooling1D())\n",
        "\n",
        "    # Add more Conv2D and MaxPooling1D layers with tunable hyperparameters\n",
        "    model.add(tf.keras.layers.Conv1D(hp.Int('conv2_filters', min_value=32, max_value=256, step=32),\n",
        "                             hp.Int('conv2_kernel', min_value=3, max_value=5, step=2),\n",
        "                             activation='relu'))\n",
        "    model.add(tf.keras.layers.MaxPooling1D())\n",
        "\n",
        "    model.add(tf.keras.layers.Flatten())\n",
        "\n",
        "    # Add tunable dropout layers\n",
        "    model.add(tf.keras.layers.Dropout(hp.Float(f'dropout_rate', min_value=0.001, max_value=0.5, step=0.1)))\n",
        "\n",
        "    # Tune the number of units in the dense layer\n",
        "    model.add(tf.keras.layers.Dense(hp.Int('dense_units', min_value=64, max_value=256, step=32), activation='relu'))\n",
        "\n",
        "\n",
        "\n",
        "    model.add(tf.keras.layers.Dense(num_classes, activation='softmax'))\n",
        "\n",
        "    # Tune the optimizer choice and learning rate\n",
        "    optimizer_value = hp.Choice('optimizer', ['adam', 'rmsprop', 'sgd'])\n",
        "\n",
        "    # Define the learning rate\n",
        "    lr = hp.Float(f'learning_rate', min_value=0.00001, max_value=0.5, step=0.1)\n",
        "\n",
        "    optimizer = get_optimizer(optimizer_value, learning_rate=lr)\n",
        "\n",
        "    model.compile(optimizer=optimizer, loss='categorical_crossentropy', metrics=['accuracy'])\n",
        "\n",
        "    return model"
      ]
    },
    {
      "cell_type": "code",
      "execution_count": null,
      "metadata": {
        "id": "lwxgiZQSyiQ0"
      },
      "outputs": [],
      "source": [
        "reduceLR = tf.keras.callbacks.ReduceLROnPlateau(monitor=\"val_loss\", patience= 3, verbose= 1, mode='min', factor=  0.2, min_lr = 1e-6)\n",
        "early_stopping = tf.keras.callbacks.EarlyStopping(monitor='val_loss', patience = 5 , verbose=1, mode='min', restore_best_weights= True)\n",
        "checkpoint = tf.keras.callbacks.ModelCheckpoint('CustomModel.weights.hdf5', monitor='val_loss', verbose=1,save_best_only=True, mode= 'min')\n",
        "callbacks = [reduceLR, early_stopping,checkpoint]"
      ]
    },
    {
      "cell_type": "code",
      "execution_count": null,
      "metadata": {
        "colab": {
          "base_uri": "https://localhost:8080/",
          "height": 790
        },
        "id": "XK9DleRvyZxB",
        "outputId": "330b5254-02f3-471e-959f-d7b01f2a91d9"
      },
      "outputs": [],
      "source": [
        "cnn_tuner = kt.Hyperband(\n",
        "    build_cnn_model,\n",
        "    objective='val_accuracy',\n",
        "    max_epochs=100,\n",
        "    factor=3,\n",
        "    directory='cnn_tuning',\n",
        "    project_name='cnn'\n",
        ")\n",
        "\n",
        "cnn_tuner.search(X_train, y_train, validation_data=(X_val, y_val), epochs=100, verbose=2)\n"
      ]
    },
    {
      "cell_type": "code",
      "execution_count": null,
      "metadata": {
        "id": "E2FV4X8spXEB"
      },
      "outputs": [],
      "source": [
        "def build_dnn_model(hp):\n",
        "    model = tf.keras.Sequential()\n",
        "\n",
        "    model.add(tf.keras.layers.Dense(hp.Int('dense_units', min_value=64, max_value=256, step=32), activation='relu', input_shape=(X_train.shape[1],)))\n",
        "\n",
        "    model.add(tf.keras.layers.BatchNormalization())\n",
        "\n",
        "    model.add(tf.keras.layers.Dropout(hp.Float(f'dropout_rate', min_value=0.0001, max_value=0.5, step=0.1)))\n",
        "\n",
        "    # Add more Dense layers with tunable hyperparameters\n",
        "    for i in range(hp.Int('num_dense_layers', 1, 4)):\n",
        "        model.add(tf.keras.layers.Dense(hp.Int(f'dense_units_{i}', min_value=32, max_value=256, step=32), activation='relu'))\n",
        "        model.add(tf.keras.layers.BatchNormalization())\n",
        "\n",
        "        model.add(tf.keras.layers.Dropout(hp.Float(f'dropout_rate_{i}', min_value=0.2, max_value=0.5, step=0.1)))\n",
        "\n",
        "    # Output layer for classification\n",
        "    model.add(tf.keras.layers.Dense(7, activation='softmax'))\n",
        "\n",
        "    # Tune the optimizer choice\n",
        "    optimizer_value = hp.Choice('optimizer', ['adam', 'rmsprop', 'sgd', 'adagrad'])\n",
        "\n",
        "    # Define the learning rate\n",
        "    lr = hp.Float(f'learning_rate', min_value=0.00001, max_value=0.5, step=0.1)\n",
        "\n",
        "    optimizer = get_optimizer(optimizer_value, learning_rate=lr)\n",
        "\n",
        "    model.compile(optimizer=optimizer, loss='categorical_crossentropy', metrics=['accuracy'])\n",
        "\n",
        "    return model\n"
      ]
    },
    {
      "cell_type": "code",
      "execution_count": null,
      "metadata": {
        "id": "Y2FsutwB0zku"
      },
      "outputs": [],
      "source": [
        "reduceLR = tf.keras.callbacks.ReduceLROnPlateau(monitor=\"val_loss\", patience= 3, verbose= 1, mode='min', factor=  0.2, min_lr = 1e-6)\n",
        "early_stopping = tf.keras.callbacks.EarlyStopping(monitor='val_loss', patience = 5 , verbose=1, mode='min', restore_best_weights= True)\n",
        "checkpoint = tf.keras.callbacks.ModelCheckpoint('CustomModel.weights.hdf5', monitor='val_loss', verbose=1,save_best_only=True, mode= 'min')\n",
        "callbacks = [reduceLR, early_stopping,checkpoint]"
      ]
    },
    {
      "cell_type": "code",
      "execution_count": null,
      "metadata": {
        "id": "nvXP403Xx8AQ"
      },
      "outputs": [],
      "source": [
        "tuner = kt.Hyperband(\n",
        "    build_dnn_model,\n",
        "    objective='val_accuracy',\n",
        "    max_epochs=100,\n",
        "    factor=3,\n",
        "    directory='tuning',\n",
        "    project_name='dnn'\n",
        ")\n",
        "\n",
        "tuner.search(X_train, y_train, validation_data=(X_val, y_val), epochs=100, verbose=2)\n"
      ]
    },
    {
      "cell_type": "code",
      "execution_count": null,
      "metadata": {
        "id": "k8tc8C1NQhtt"
      },
      "outputs": [],
      "source": [
        "# Get the optimal hyperparameters\n",
        "best_hps = tuner.get_best_hyperparameters(num_trials=1)[0]\n",
        "\n",
        "print(f\"Optimal number of filters in the first Conv2D layer: {best_hps.get('conv1_filters')}\")\n",
        "print(f\"Optimal kernel size in the first Conv2D layer: {best_hps.get('conv1_kernel')}\")\n",
        "\n",
        "print(f\"Optimal number of units in the first Dense layer: {best_hps.get('dense_units')}\")\n",
        "\n",
        "# Print the optimal dropout rates for the dropout layers\n",
        "for i in range(best_hps.get('num_dropout_layers')):\n",
        "    print(f\"Optimal dropout rate for Dropout layer {i+1}: {best_hps.get(f'dropout_rate_{i}')}\")\n",
        "\n",
        "print(f\"Optimal number of units in the first Dense layer: {best_hps.get('dense_units')}\")\n",
        "print(f\"Optimal optimizer: {best_hps.get('optimizer')}\")"
      ]
    },
    {
      "cell_type": "markdown",
      "metadata": {
        "id": "pbr_Z8bgya15"
      },
      "source": [
        "### Final Model"
      ]
    },
    {
      "cell_type": "code",
      "execution_count": null,
      "metadata": {
        "colab": {
          "base_uri": "https://localhost:8080/"
        },
        "id": "WJpXK-ALgx-E",
        "outputId": "243782ce-95ee-404c-9c42-9cd4904db9f7"
      },
      "outputs": [],
      "source": [
        "X_train.shape[0]"
      ]
    },
    {
      "cell_type": "code",
      "execution_count": null,
      "metadata": {
        "id": "mXycwCkhyfkF"
      },
      "outputs": [],
      "source": [
        "def build_final_model():\n",
        "    model = tf.keras.Sequential()\n",
        "\n",
        "    model.add(tf.keras.layers.Dense(224, activation='relu', input_shape=(X_train.shape[1],)))\n",
        "\n",
        "    model.add(tf.keras.layers.BatchNormalization())\n",
        "\n",
        "    model.add(tf.keras.layers.Dropout(0.4))\n",
        "\n",
        "    model.add(tf.keras.layers.Dense(192, activation='relu'))\n",
        "\n",
        "    model.add(tf.keras.layers.BatchNormalization())\n",
        "\n",
        "    model.add(tf.keras.layers.Dropout(0.2))\n",
        "\n",
        "    model.add(tf.keras.layers.Dense(224, activation='relu'))\n",
        "\n",
        "    model.add(tf.keras.layers.BatchNormalization())\n",
        "\n",
        "    model.add(tf.keras.layers.Dropout(0.3))\n",
        "\n",
        "    model.add(tf.keras.layers.Dense(64, activation='relu'))\n",
        "\n",
        "    model.add(tf.keras.layers.BatchNormalization())\n",
        "\n",
        "    model.add(tf.keras.layers.Dropout(0.3))\n",
        "\n",
        "    model.add(tf.keras.layers.Dense(160, activation='relu'))\n",
        "\n",
        "    model.add(tf.keras.layers.BatchNormalization())\n",
        "\n",
        "    model.add(tf.keras.layers.Dropout(0.2))\n",
        "\n",
        "    model.add(tf.keras.layers.Dense(64, activation='relu'))\n",
        "\n",
        "    model.add(tf.keras.layers.BatchNormalization())\n",
        "\n",
        "    model.add(tf.keras.layers.Dropout(0.3))\n",
        "\n",
        "    # Output layer for classification\n",
        "    model.add(tf.keras.layers.Dense(7, activation='softmax'))\n",
        "\n",
        "    # Tune the optimizer choice\n",
        "    optimizer_value = 'adam'\n",
        "\n",
        "    optimizer = get_optimizer(optimizer_value, learning_rate=0.101)\n",
        "\n",
        "    model.compile(optimizer=optimizer, loss='categorical_crossentropy', metrics=['accuracy'])\n",
        "\n",
        "    return model\n"
      ]
    },
    {
      "cell_type": "code",
      "execution_count": null,
      "metadata": {
        "colab": {
          "base_uri": "https://localhost:8080/",
          "height": 825
        },
        "id": "bZhkWT9hzayN",
        "outputId": "a642fc9b-1e6a-451d-8aef-6bf4927ffd4f"
      },
      "outputs": [],
      "source": [
        "accuracy_measures = {}\n",
        "model_config = base_model_config()\n",
        "model = build_final_model()\n",
        "\n",
        "reduceLR = tf.keras.callbacks.ReduceLROnPlateau(monitor=\"val_loss\", patience= 3, verbose= 1, mode='min', factor=  0.2, min_lr = 1e-6)\n",
        "early_stopping = tf.keras.callbacks.EarlyStopping(monitor='val_loss', patience = 5 , verbose=1, mode='min', restore_best_weights= True)\n",
        "checkpoint = tf.keras.callbacks.ModelCheckpoint('CustomModel.weights.hdf5', monitor='val_loss', verbose=1, save_best_only=True, mode= 'min')\n",
        "callbacks = [reduceLR, early_stopping,checkpoint]\n",
        "\n",
        "model.fit(X_train, y_train, validation_data=(X_test, y_test), epochs=5, verbose=1)\n",
        "\n",
        "accuracy_measures[\"training\"] = model.history.history[\"accuracy\"]\n",
        "accuracy_measures[\"validation\"] = model.history.history[\"val_accuracy\"]"
      ]
    },
    {
      "cell_type": "code",
      "execution_count": null,
      "metadata": {
        "colab": {
          "base_uri": "https://localhost:8080/",
          "height": 718
        },
        "id": "EmKdiIm_z3AC",
        "outputId": "1150232b-fd7d-495d-c72d-ede3ac87f0a0"
      },
      "outputs": [],
      "source": [
        "plot_graph(accuracy_measures, \"Final CNN Model\")"
      ]
    },
    {
      "cell_type": "code",
      "execution_count": null,
      "metadata": {
        "colab": {
          "base_uri": "https://localhost:8080/"
        },
        "id": "v6dautcCz8ZI",
        "outputId": "3bafb11c-505b-4380-e2d3-4886b2b67844"
      },
      "outputs": [],
      "source": [
        "predictions = model.evaluate(test_dataset, batch_size=model_config[\"BATCH_SIZE\"])"
      ]
    },
    {
      "cell_type": "code",
      "execution_count": null,
      "metadata": {
        "colab": {
          "base_uri": "https://localhost:8080/"
        },
        "id": "94lb0fa5lLb2",
        "outputId": "9f5b7872-382f-4a15-9149-e824e884ee13"
      },
      "outputs": [],
      "source": [
        "print(f\"Accuracy: {predictions[1]}, Loss: {predictions[0]}\")"
      ]
    },
    {
      "cell_type": "code",
      "execution_count": null,
      "metadata": {
        "id": "KMcdeCI2LKaf"
      },
      "outputs": [],
      "source": [
        "# Get the ground truth labels and predicted labels for the validation dataset\n",
        "y_true = []\n",
        "y_pred = []\n",
        "\n",
        "for images, labels in test_dataset:\n",
        "    y_true.extend(tf.argmax(labels, axis=1).numpy())\n",
        "    predictions = model.predict(images)\n",
        "    y_pred.extend(tf.argmax(predictions, axis=1).numpy())\n"
      ]
    },
    {
      "cell_type": "code",
      "execution_count": null,
      "metadata": {
        "colab": {
          "base_uri": "https://localhost:8080/"
        },
        "id": "nOk5iPkiZH4x",
        "outputId": "67d90353-2f2d-4790-82e0-37744a471b07"
      },
      "outputs": [],
      "source": [
        "# Calculate classification metrics\n",
        "classification_metrics = classification_report(y_true, y_pred, target_names=class_names)\n",
        "print(classification_metrics)"
      ]
    },
    {
      "cell_type": "code",
      "execution_count": null,
      "metadata": {
        "colab": {
          "base_uri": "https://localhost:8080/"
        },
        "id": "Oz___l8WcwSv",
        "outputId": "60deb6f5-a6de-4123-a9e1-e79bd37c9fa6"
      },
      "outputs": [],
      "source": [
        "# Calculate confusion matrix\n",
        "conf_matrix = confusion_matrix(y_true, y_pred)\n",
        "\n",
        "# Print the confusion matrix\n",
        "print(\"Confusion Matrix:\")\n",
        "print(conf_matrix)"
      ]
    },
    {
      "cell_type": "code",
      "execution_count": null,
      "metadata": {
        "id": "CTtAw63AnIOp"
      },
      "outputs": [],
      "source": [
        "model.save('New_CNN_model.h5')"
      ]
    },
    {
      "cell_type": "markdown",
      "metadata": {
        "id": "NgoKSC3jT54y"
      },
      "source": [
        "### Benchmark"
      ]
    },
    {
      "cell_type": "code",
      "execution_count": null,
      "metadata": {
        "colab": {
          "base_uri": "https://localhost:8080/",
          "height": 409
        },
        "id": "XYEt2wdgT_Nx",
        "outputId": "b8fc8e93-443b-487b-c08e-98c80f82edfa"
      },
      "outputs": [],
      "source": [
        "from sklearn.ensemble import RandomForestClassifier\n",
        "from hyperopt import fmin, tpe, hp, STATUS_OK, Trials\n",
        "\n",
        "# Define the search space for hyperparameters\n",
        "space = {\n",
        "    'n_estimators': hp.quniform('n_estimators', 40, 100, 1),\n",
        "    # 'max_depth': hp.quniform('max_depth', 2, 20, 1),\n",
        "    # 'min_samples_split': hp.quniform('min_samples_split', 2, 20, 1),\n",
        "    # 'min_samples_leaf': hp.quniform('min_samples_leaf', 1, 10, 1),\n",
        "}\n",
        "\n",
        "def objective(params):\n",
        "    # Convert floating-point hyperparameters to integer\n",
        "    # params['n_estimators'] = int(params['n_estimators'])\n",
        "    # params['max_depth'] = int(params['max_depth'])\n",
        "    # params['min_samples_split'] = int(params['min_samples_split'])\n",
        "    # params['min_samples_leaf'] = int(params['min_samples_leaf'])\n",
        "    n_estimators = int(params['n_estimators'])\n",
        "\n",
        "    # Create and train the RandomForestClassifier\n",
        "    # clf = RandomForestClassifier(**params, random_state=42)\n",
        "    clf = RandomForestClassifier(n_estimators=n_estimators, random_state=42)\n",
        "    clf.fit(X_train, y_train)\n",
        "\n",
        "    # Evaluate the classifier on the validation set\n",
        "    y_pred = clf.predict(X_val)\n",
        "    accuracy = accuracy_score(y_val, y_pred)\n",
        "\n",
        "    return {'loss': -accuracy, 'status': STATUS_OK}\n",
        "\n",
        "# Hyperband parameters\n",
        "max_evals = 60  # Maximum number of evaluations\n",
        "eta = 3  # Reduction factor for the number of configurations\n",
        "\n",
        "# Set the random seed\n",
        "np.random.seed(42)\n",
        "\n",
        "# Hyperparameter optimization using Hyperband\n",
        "trials = Trials()\n",
        "best = fmin(fn=objective,\n",
        "            space=space,\n",
        "            algo=tpe.suggest,\n",
        "            max_evals=max_evals,\n",
        "            trials=trials,\n",
        "            verbose=1)\n",
        "\n",
        "print(\"Best hyperparameters:\")\n",
        "print(best)\n",
        "\n",
        "# Retrain the model with the best hyperparameters on the full training set\n",
        "# best_params = space_eval(space, best)\n",
        "# best_clf = RandomForestClassifier(**best_params, random_state=42)\n",
        "best_clf = RandomForestClassifier(n_estimators=int(best['n_estimators']), random_state=42)\n",
        "best_clf.fit(X_train, y_train)\n",
        "best_clf.fit(X_train, y_train)"
      ]
    },
    {
      "cell_type": "code",
      "execution_count": null,
      "metadata": {
        "id": "nEZB7sKnMy9Z"
      },
      "outputs": [],
      "source": [
        "y_pred_test = best_clf.predict(X_test)\n",
        "accuracy_test = accuracy_score(y_test, y_pred_test)\n",
        "print(\"Test accuracy with best hyperparameters:\", accuracy_test)"
      ]
    },
    {
      "cell_type": "code",
      "execution_count": null,
      "metadata": {
        "colab": {
          "base_uri": "https://localhost:8080/"
        },
        "id": "yaRtwhXIl1Ab",
        "outputId": "d7df96c2-1cf3-4b8a-aee2-028395ed4b94"
      },
      "outputs": [],
      "source": [
        "from sklearn.ensemble import RandomForestClassifier\n",
        "# Create and train the RandomForestClassifier\n",
        "clf = RandomForestClassifier(n_estimators=43, random_state=42)\n",
        "clf.fit(X_train, y_train)\n",
        "\n",
        "# Evaluate the classifier on the validation set\n",
        "y_pred = clf.predict(X_val)\n",
        "accuracy = accuracy_score(y_val, y_pred)\n",
        "print(accuracy)"
      ]
    },
    {
      "cell_type": "code",
      "execution_count": null,
      "metadata": {
        "colab": {
          "base_uri": "https://localhost:8080/"
        },
        "id": "we9bKIuc4SCm",
        "outputId": "873a75fb-67d8-4cf5-c209-8b6612ad1a99"
      },
      "outputs": [],
      "source": [
        "import joblib\n",
        "\n",
        "model_filename = 'models/model.joblib'\n",
        "joblib.dump(clf, model_filename, protocol=2)"
      ]
    },
    {
      "cell_type": "code",
      "execution_count": null,
      "metadata": {
        "colab": {
          "base_uri": "https://localhost:8080/"
        },
        "id": "a2Po8717kB6M",
        "outputId": "095d7f46-22bf-430c-a509-f8d1719998f1"
      },
      "outputs": [],
      "source": [
        "# Generate classification report (precision, recall, f1-score, support for each class)\n",
        "report = classification_report(y_val, y_pred)\n",
        "print(\"Classification Report:\\n\", report)"
      ]
    },
    {
      "cell_type": "code",
      "execution_count": null,
      "metadata": {
        "id": "BMJwVBI6VDPi"
      },
      "outputs": [],
      "source": [
        "# Calculate confusion matrix\n",
        "conf_matrix = confusion_matrix(y_val, y_pred)\n",
        "\n",
        "# Print the confusion matrix\n",
        "print(\"Confusion Matrix:\")\n",
        "print(conf_matrix)"
      ]
    },
    {
      "cell_type": "code",
      "execution_count": null,
      "metadata": {
        "colab": {
          "base_uri": "https://localhost:8080/"
        },
        "id": "6OX3wg-gZG7U",
        "outputId": "144bde03-25f9-4d72-9e3c-747e96213c43"
      },
      "outputs": [],
      "source": [
        "# Step 4: Evaluate the Model\n",
        "accuracy = accuracy_score(y_val, y_pred)\n",
        "print(\"Accuracy:\", accuracy)\n",
        "\n",
        "# Generate classification report (precision, recall, f1-score, support for each class)\n",
        "report = classification_report(y_val, y_pred)\n",
        "print(\"Classification Report:\\n\", report)"
      ]
    },
    {
      "cell_type": "code",
      "execution_count": null,
      "metadata": {
        "id": "vLFg7hqTW6W2"
      },
      "outputs": [],
      "source": [
        "from sklearn.svm import SVC\n",
        "\n",
        "# y_val_not_encode = y_val.argmax(axis=1)\n",
        "\n",
        "# Build and Train the SVM Model\n",
        "svm_model = SVC(kernel='rbf', C=1.0, gamma='scale', random_state=42)\n",
        "# If you have a large dataset, 'kernel='linear'' might not be the best choice due to its time complexity. You can use 'kernel='rbf'' (Radial Basis Function) instead.\n",
        "\n",
        "svm_model.fit(X_train, y_train_resampled)\n",
        "\n",
        "# Step 3: Make Predictions\n",
        "y_pred = svm_model.predict(X_val)\n"
      ]
    },
    {
      "cell_type": "code",
      "execution_count": null,
      "metadata": {
        "id": "ea5p9WQdW6Uf"
      },
      "outputs": [],
      "source": [
        "# Step 4: Evaluate the Model\n",
        "accuracy = accuracy_score(y_val.values.argmax(axis=1), y_pred)\n",
        "print(\"Accuracy:\", accuracy)\n",
        "\n",
        "# Generate classification report (precision, recall, f1-score, support for each class)\n",
        "report = classification_report(y_val, y_pred)\n",
        "print(\"Classification Report:\\n\", report)\n",
        "\n",
        "from sklearn.metrics import f1_score\n",
        "\n",
        "# Calculate F1-score\n",
        "f1 = f1_score(y_val, y_pred, average='weighted')  # Set 'average' to 'weighted' for multi-class classification\n",
        "print(\"F1-Score:\", f1)"
      ]
    },
    {
      "cell_type": "code",
      "execution_count": null,
      "metadata": {
        "id": "FoleJ4Fyhi7f"
      },
      "outputs": [],
      "source": [
        "from sklearn.neighbors import KNeighborsClassifier\n",
        "\n",
        "# Build and Train the KNN Model\n",
        "k = 7  # Number of neighbors to consider\n",
        "knn_model = KNeighborsClassifier(n_neighbors=k)\n",
        "\n",
        "knn_model.fit(X_train, y_train)\n",
        "\n",
        "# Step 3: Make Predictions\n",
        "y_pred = knn_model.predict(X_val)"
      ]
    },
    {
      "cell_type": "code",
      "execution_count": null,
      "metadata": {
        "colab": {
          "base_uri": "https://localhost:8080/"
        },
        "id": "sCbeVQg2h5Wg",
        "outputId": "2ce07fb2-9e61-47e2-9059-76c0f2a104fa"
      },
      "outputs": [],
      "source": [
        "# Step 4: Evaluate the Model\n",
        "accuracy = accuracy_score(y_val, y_pred)\n",
        "print(\"Accuracy:\", accuracy)\n",
        "\n",
        "# Generate classification report (precision, recall, f1-score, support for each class)\n",
        "report = classification_report(y_val, y_pred)\n",
        "print(\"Classification Report:\\n\", report)\n",
        "\n",
        "from sklearn.metrics import f1_score\n",
        "\n",
        "# Calculate F1-score\n",
        "f1 = f1_score(y_val, y_pred, average='weighted')  # Set 'average' to 'weighted' for multi-class classification\n",
        "print(\"F1-Score:\", f1)"
      ]
    }
  ],
  "metadata": {
    "accelerator": "GPU",
    "colab": {
      "collapsed_sections": [
        "Xzi-t6MFzsTX",
        "L_wt7tyO8rEE",
        "uHOdXmEd1pDQ",
        "vK7KrLC1LJ6N",
        "-3K6-_8RMhzj",
        "O73m7tS9KGPY"
      ],
      "gpuType": "T4",
      "machine_shape": "hm",
      "provenance": []
    },
    "kernelspec": {
      "display_name": "Python 3",
      "name": "python3"
    },
    "language_info": {
      "codemirror_mode": {
        "name": "ipython",
        "version": 3
      },
      "file_extension": ".py",
      "mimetype": "text/x-python",
      "name": "python",
      "nbconvert_exporter": "python",
      "pygments_lexer": "ipython3",
      "version": "3.10.11"
    }
  },
  "nbformat": 4,
  "nbformat_minor": 0
}
